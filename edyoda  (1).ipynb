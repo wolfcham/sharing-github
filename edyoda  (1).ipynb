{
 "cells": [
  {
   "cell_type": "markdown",
   "id": "90778d64",
   "metadata": {},
   "source": [
    "Ques.1 :- Write a program to find all pairs of an integer array whose sum is equal to a given number?"
   ]
  },
  {
   "cell_type": "code",
   "execution_count": 1,
   "id": "bb6987ae",
   "metadata": {},
   "outputs": [
    {
     "data": {
      "text/plain": [
       "2"
      ]
     },
     "execution_count": 1,
     "metadata": {},
     "output_type": "execute_result"
    }
   ],
   "source": [
    "def countPairs(arr,n,sum):\n",
    "  count = 0\n",
    "  for i in range(0,n):\n",
    "    for j in range(i+1, n):\n",
    "      if arr[i] + arr[j] == sum:\n",
    "        count +=1\n",
    "  return count\n",
    "\n",
    "arr =[1,5,7,-1]\n",
    "n = len(arr)\n",
    "sum =6\n",
    "countPairs(arr,n, sum)"
   ]
  },
  {
   "cell_type": "markdown",
   "id": "a1043e94",
   "metadata": {},
   "source": [
    "Ques.2 :- Write a program to reverse an array in place? In place means you cannot create a new array. You have to update the     original array."
   ]
  },
  {
   "cell_type": "code",
   "execution_count": 2,
   "id": "73f55f88",
   "metadata": {},
   "outputs": [
    {
     "name": "stdout",
     "output_type": "stream",
     "text": [
      "[1, 2, 3, 4, 5, 6]\n",
      "[6, 5, 4, 3, 2, 1]\n"
     ]
    }
   ],
   "source": [
    "def reverseArray(arr,start,end):\n",
    "  while start< end:\n",
    "    arr[start] , arr[end]  = arr[end], arr[start]\n",
    "    start +=  1\n",
    "    end -= 1\n",
    "\n",
    "arr = [1,2,3,4,5,6]\n",
    "print(arr)\n",
    "reverseArray(arr, 0, 5)\n",
    "print(arr) \n"
   ]
  },
  {
   "cell_type": "markdown",
   "id": "8af374c9",
   "metadata": {},
   "source": [
    " Ques.3 :-   Write a program to check if two strings are a rotation of each other."
   ]
  },
  {
   "cell_type": "code",
   "execution_count": 3,
   "id": "17ed47e5",
   "metadata": {},
   "outputs": [
    {
     "name": "stdout",
     "output_type": "stream",
     "text": [
      "String are Rotation of Each Other\n"
     ]
    }
   ],
   "source": [
    "def stringRotation(string1,string2):\n",
    "  size1 = len(string1)\n",
    "  size2 = len(string2)\n",
    "  temp = ''\n",
    "\n",
    "  if size1 != size2:\n",
    "    return 0 \n",
    "\n",
    "  temp = string1 + string2\n",
    "\n",
    "  if(temp.count(string2)> 0):\n",
    "    return 1 \n",
    "  else:\n",
    "    return 0\n",
    "\n",
    "if __name__ == \"__main__\":\n",
    "  string1 = \"AACD\"\n",
    "  string2 = \"ACDA\"    \n",
    "\n",
    "  if stringRotation(string1, string2):\n",
    "    print(\"String are Rotation of Each Other\")\n",
    "  else:\n",
    "    print(\"String are not Rotation of Each Other \")    \n"
   ]
  },
  {
   "cell_type": "markdown",
   "id": "6096ae41",
   "metadata": {},
   "source": [
    "Ques.4 :-Write a program to print the first non-repeated character from a string?"
   ]
  },
  {
   "cell_type": "code",
   "execution_count": 4,
   "id": "2b38d4d3",
   "metadata": {},
   "outputs": [
    {
     "name": "stdout",
     "output_type": "stream",
     "text": [
      "First not repeating character is :  d\n"
     ]
    }
   ],
   "source": [
    "str1 = \"adiawasthi\"\n",
    "index = -1\n",
    "fnc = \"\"\n",
    "for i in str1:\n",
    "  if str1.count(i) == 1:\n",
    "    fnc += i\n",
    "    break\n",
    "  else:\n",
    "    index += 1\n",
    "\n",
    "if index == 1:\n",
    "  print(\"String is Empty\")\n",
    "else:\n",
    "  print(\"First not repeating character is : \" ,fnc)      \n",
    "\n"
   ]
  },
  {
   "cell_type": "markdown",
   "id": "33c25097",
   "metadata": {},
   "source": [
    "Ques.5 :- Read about the Tower of Hanoi algorithm. Write a program to implement it. "
   ]
  },
  {
   "cell_type": "code",
   "execution_count": 5,
   "id": "6ae3cb54",
   "metadata": {},
   "outputs": [
    {
     "name": "stdout",
     "output_type": "stream",
     "text": [
      "Move disk 1 from rod A to rod C\n",
      "Move disk 2 from rod A to rod C\n",
      "Move disk 1 from rod B to rod C\n",
      "Move disk 3 from rod A to rod C\n",
      "Move disk 1 from rod B to rod C\n",
      "Move disk 2 from rod B to rod C\n",
      "Move disk 1 from rod A to rod C\n"
     ]
    }
   ],
   "source": [
    "def TowerofHanoai(n,from_rod,to_rod,aux_rod):\n",
    "  if n==0:\n",
    "    return\n",
    "  TowerofHanoai(n-1,from_rod,to_rod,aux_rod)\n",
    "  print(\"Move disk\", n, \"from rod\", from_rod, \"to rod\", to_rod)  \n",
    "  TowerofHanoai(n-1, aux_rod, to_rod, from_rod)\n",
    "\n",
    "N= 3\n",
    "TowerofHanoai(N,'A','C','B')"
   ]
  },
  {
   "cell_type": "markdown",
   "id": "9d851466",
   "metadata": {},
   "source": [
    "Ques.6 :- Read about infix, prefix, and postfix expressions. Write a program to convert postfix to prefix expression."
   ]
  },
  {
   "cell_type": "code",
   "execution_count": 6,
   "id": "e7680551",
   "metadata": {},
   "outputs": [
    {
     "name": "stdout",
     "output_type": "stream",
     "text": [
      "ABC/-AK/L-*\n"
     ]
    }
   ],
   "source": [
    "s =\"*-A/BC-/AKL\"\n",
    "stack =[]\n",
    "operators =set(['+','-','*', '/', '^'])\n",
    "s = s[::-1]\n",
    "\n",
    "for i in s:\n",
    "  if i in operators:\n",
    "    a = stack.pop()\n",
    "    b = stack.pop()\n",
    "    temp = a + b + i\n",
    "    stack.append(temp)\n",
    "  else:  \n",
    "    stack.append(i)\n",
    "print(*stack)"
   ]
  },
  {
   "cell_type": "markdown",
   "id": "864642d5",
   "metadata": {},
   "source": [
    "Ques. 7:- Write a program to convert prefix expression to infix expression."
   ]
  },
  {
   "cell_type": "code",
   "execution_count": 9,
   "id": "e9665b9b",
   "metadata": {},
   "outputs": [
    {
     "name": "stdout",
     "output_type": "stream",
     "text": [
      "((A-(B/C))*((A/K)-L))\n"
     ]
    }
   ],
   "source": [
    "def prefixToInfix(prefix):\n",
    "  stack =[]\n",
    "  i = len(prefix)-1\n",
    "  while i >= 0:\n",
    "    if not isOperator(prefix[i]):\n",
    "      stack.append(prefix[i]) \n",
    "      i -= 1\n",
    "    else:\n",
    "      str = \"(\" + stack.pop() + prefix[i] + stack.pop() +  \")\"  \n",
    "      stack.append(str)\n",
    "      i -= 1\n",
    "  return stack.pop()   \n",
    "def isOperator(c):\n",
    "  if c == \"*\" or c == \"+\" or c == \"-\" or c ==  \"/\" or c == \"^\" or c == \"(\"  or c == \")\":\n",
    "    return True\n",
    "  else: \n",
    "    return False\n",
    "\n",
    "if __name__ == \"__main__\":\n",
    "  str = \"*-A/BC-/AKL\"\n",
    "  print(prefixToInfix(str))\n",
    "\n"
   ]
  },
  {
   "cell_type": "markdown",
   "id": "7967b6b6",
   "metadata": {},
   "source": [
    "Ques.8 :-Write a program to check if all the brackets are closed in a given code snippet."
   ]
  },
  {
   "cell_type": "code",
   "execution_count": 12,
   "id": "0591323c",
   "metadata": {},
   "outputs": [
    {
     "name": "stdout",
     "output_type": "stream",
     "text": [
      "Balanced\n"
     ]
    }
   ],
   "source": [
    "def areBracketsBalanced(expr):\n",
    "    stack = []\n",
    "\n",
    "    for char in expr:\n",
    "        if char in [\"(\", \"{\", \"[\"]:\n",
    "            stack.append(char)\n",
    "        else:\n",
    "\n",
    "            if not stack:\n",
    "                return False\n",
    "            current_char = stack.pop()\n",
    "            if current_char == '(':\n",
    "                if char != \")\":\n",
    "                    return False\n",
    "            if current_char == '{':\n",
    "                if char != \"}\":\n",
    "                    return False\n",
    "            if current_char == '[':\n",
    "                if char != \"]\":\n",
    "                    \n",
    "                    return False\n",
    "\n",
    "    if stack:\n",
    "        return False\n",
    "    return True\n",
    "\n",
    "if __name__ == \"__main__\":\n",
    "    expr = \"{()}[]\"\n",
    "    if areBracketsBalanced(expr):\n",
    "        print(\"Balanced\")\n",
    "    else:\n",
    "        print(\"Not Balanced\")\n",
    "\n",
    "\n"
   ]
  },
  {
   "cell_type": "markdown",
   "id": "eb7998e4",
   "metadata": {},
   "source": [
    "Ques.9 :- Write a program to reverse a stack."
   ]
  },
  {
   "cell_type": "code",
   "execution_count": 16,
   "id": "01a3cb62",
   "metadata": {},
   "outputs": [
    {
     "name": "stdout",
     "output_type": "stream",
     "text": [
      "Original Stack \n",
      "1 2 3 4 \n",
      "Reversed Stack \n",
      "4 3 2 1 \n"
     ]
    }
   ],
   "source": [
    "def insertAtBottom(stack, item):\n",
    "    if isEmpty(stack):\n",
    "        push(stack, item)\n",
    "    else:\n",
    "        temp = pop(stack)\n",
    "        insertAtBottom(stack, item)\n",
    "        push(stack, temp)\n",
    "\n",
    "def reverse(stack):\n",
    "    if not isEmpty(stack):\n",
    "        temp = pop(stack)\n",
    "        reverse(stack)\n",
    "        insertAtBottom(stack, temp)\n",
    "\n",
    "def createStack():\n",
    "    stack = []\n",
    "    return stack\n",
    "\n",
    "def isEmpty(stack):\n",
    "    return len(stack) == 0\n",
    "\n",
    "def push(stack, item):\n",
    "    stack.append(item)\n",
    "\n",
    "\n",
    "def pop(stack):\n",
    "    if(isEmpty(stack)):\n",
    "        print(\"Stack Underflow \")\n",
    "        exit(1)\n",
    "\n",
    "    return stack.pop()\n",
    "\n",
    "\n",
    "\n",
    "\n",
    "def prints(stack):\n",
    "    for i in range(len(stack)-1, -1, -1):\n",
    "        print(stack[i], end=' ')\n",
    "    print()\n",
    "\n",
    "\n",
    "\n",
    "\n",
    "stack = createStack()\n",
    "push(stack, 4)\n",
    "push(stack, 3)\n",
    "push(stack, 2)\n",
    "push(stack, 1)\n",
    "print(\"Original Stack \")\n",
    "prints(stack)\n",
    "\n",
    "reverse(stack)\n",
    "\n",
    "print(\"Reversed Stack \")\n",
    "prints(stack)\n",
    "\n",
    "\n"
   ]
  },
  {
   "cell_type": "markdown",
   "id": "d40d9424",
   "metadata": {},
   "source": [
    "Ques.10:- Write a program to find the smallest number using a stack."
   ]
  },
  {
   "cell_type": "code",
   "execution_count": 23,
   "id": "c006aa3c",
   "metadata": {},
   "outputs": [
    {
     "name": "stdout",
     "output_type": "stream",
     "text": [
      "Number Inserted: 3\n",
      "Number Inserted: 5\n",
      "Minimum Element in the stack is: 3\n",
      "Number Inserted: 2\n",
      "Number Inserted: 1\n",
      "Minimum Element in the stack is: 1\n",
      "Top Most Element Removed :1 \n",
      "Minimum Element in the stack is: 2\n",
      "Top Most Element Removed :2 \n",
      "Top Most Element is: 5\n"
     ]
    }
   ],
   "source": [
    "class Node:\n",
    "    def __init__(self, value):\n",
    "        self.value = value\n",
    "        self.next = None\n",
    "        \n",
    "    def __str__(self):\n",
    "        return \"Node({})\".format(self.value)\n",
    "    __repr__ = __str__\n",
    "\n",
    "\n",
    "class Stack:\n",
    "    def __init__(self):\n",
    "        self.top = None\n",
    "        self.count = 0\n",
    "        self.minimum = None\n",
    "\n",
    "    def __str__(self):\n",
    "        temp = self.top\n",
    "        out = []\n",
    "        while temp:\n",
    "            out.append(str(temp.value))\n",
    "            temp = temp.next\n",
    "        out = '\\n'.join(out)\n",
    "        return ('Top {} \\n\\nStack :\\n{}'.format(self.top, out))\n",
    "\n",
    "    __repr__ = __str__\n",
    "    def getMin(self):\n",
    "        if self.top is None:\n",
    "            return \"Stack is empty\"\n",
    "        else:\n",
    "            print(\"Minimum Element in the stack is: {}\" .format(self.minimum))\n",
    "\n",
    "    def isEmpty(self):\n",
    "        if self.top == None:\n",
    "            return True\n",
    "        else:\n",
    "            return False\n",
    "\n",
    "    def __len__(self):\n",
    "        self.count = 0\n",
    "        tempNode = self.top\n",
    "        while tempNode:\n",
    "            tempNode = tempNode.next\n",
    "            self.count += 1\n",
    "        return self.count\n",
    "\n",
    "    def peek(self):\n",
    "        if self.top is None:\n",
    "            print(\"Stack is empty\")\n",
    "        else:\n",
    "            if self.top.value < self.minimum:\n",
    "                print(\"Top Most Element is: {}\" .format(self.minimum))\n",
    "            else:\n",
    "                print(\"Top Most Element is: {}\" .format(self.top.value))\n",
    "\n",
    "    def push(self, value):\n",
    "        if self.top is None:\n",
    "            self.top = Node(value)\n",
    "            self.minimum = value\n",
    "\n",
    "        elif value < self.minimum:\n",
    "            temp = (2 * value) - self.minimum\n",
    "            new_node = Node(temp)\n",
    "            new_node.next = self.top\n",
    "            self.top = new_node\n",
    "            self.minimum = value\n",
    "        else:\n",
    "            new_node = Node(value)\n",
    "            new_node.next = self.top\n",
    "            self.top = new_node\n",
    "        print(\"Number Inserted: {}\" .format(value))\n",
    "\n",
    "\n",
    "    def pop(self):\n",
    "        if self.top is None:\n",
    "            print(\"Stack is empty\")\n",
    "        else:\n",
    "            removedNode = self.top.value\n",
    "            self.top = self.top.next\n",
    "            if removedNode < self.minimum:\n",
    "                print(\"Top Most Element Removed :{} \" .format(self.minimum))\n",
    "                self.minimum = ((2 * self.minimum) - removedNode)\n",
    "            else:\n",
    "                print(\"Top Most Element Removed : {}\" .format(removedNode))\n",
    "\n",
    "if __name__ == '__main__':\n",
    "    stack = Stack()\n",
    "\n",
    "stack.push(3)\n",
    "stack.push(5)\n",
    "stack.getMin()\n",
    "stack.push(2)\n",
    "stack.push(1)\n",
    "stack.getMin()\n",
    "stack.pop()\n",
    "stack.getMin()\n",
    "stack.pop()\n",
    "stack.peek()\n",
    "\n"
   ]
  },
  {
   "cell_type": "code",
   "execution_count": null,
   "id": "26bbc729",
   "metadata": {},
   "outputs": [],
   "source": []
  }
 ],
 "metadata": {
  "kernelspec": {
   "display_name": "Python 3 (ipykernel)",
   "language": "python",
   "name": "python3"
  },
  "language_info": {
   "codemirror_mode": {
    "name": "ipython",
    "version": 3
   },
   "file_extension": ".py",
   "mimetype": "text/x-python",
   "name": "python",
   "nbconvert_exporter": "python",
   "pygments_lexer": "ipython3",
   "version": "3.9.12"
  }
 },
 "nbformat": 4,
 "nbformat_minor": 5
}
